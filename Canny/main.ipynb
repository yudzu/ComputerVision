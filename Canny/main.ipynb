{
 "cells": [
  {
   "cell_type": "code",
   "execution_count": 4,
   "id": "12913503",
   "metadata": {},
   "outputs": [
    {
     "name": "stdout",
     "output_type": "stream",
     "text": [
      "Image size is: (720, 1080, 3)\n",
      "Data type of image is: uint8\n"
     ]
    }
   ],
   "source": [
    "import numpy as np\n",
    "import cv2\n",
    "\n",
    "img = cv2.imread('pattern.jpg', cv2.IMREAD_COLOR)\n",
    "\n",
    "print(\"Image size is:\", img.shape)\n",
    "print(\"Data type of image is:\", img.dtype)\n",
    "\n",
    "cv2.imshow(\"Original image\",img)\n",
    "cv2.waitKey()\n",
    "cv2.destroyAllWindows()\n",
    "\n",
    "# print(img)"
   ]
  },
  {
   "cell_type": "code",
   "execution_count": 2,
   "id": "8341177d",
   "metadata": {},
   "outputs": [
    {
     "name": "stdout",
     "output_type": "stream",
     "text": [
      "127.5\n"
     ]
    }
   ],
   "source": [
    "gray = cv2.cvtColor(img, cv2.COLOR_RGB2GRAY)\n",
    "\n",
    "gradient_img = cv2.Sobel(src=gray, ddepth=cv2.CV_8U, dx=1, dy=1)\n",
    "\n",
    "min_element = 255\n",
    "max_element = 0\n",
    "\n",
    "for i in range(gradient_img.shape[0]):\n",
    "   for j in range(gradient_img.shape[1]):\n",
    "       if (gradient_img[i, j] > max_element):\n",
    "           max_element = gradient_img[i, j]\n",
    "       if (gradient_img[i, j] < min_element):\n",
    "           min_element = gradient_img[i, j]\n",
    "               \n",
    "mean_gradient = (max_element - min_element) / 2 \n",
    "print(mean_gradient)"
   ]
  },
  {
   "cell_type": "code",
   "execution_count": 5,
   "id": "09ff5aab",
   "metadata": {},
   "outputs": [],
   "source": [
    "min_ = int((2 * mean_gradient / 3))\n",
    "max_ = int((4 * mean_gradient / 3))\n",
    "\n",
    "new_img = cv2.Canny(img, min_, max_)\n",
    "\n",
    "cv2.imshow(\"new img\", new_img)\n",
    "cv2.waitKey()\n",
    "cv2.destroyAllWindows()"
   ]
  },
  {
   "cell_type": "code",
   "execution_count": null,
   "id": "68880636",
   "metadata": {},
   "outputs": [],
   "source": [
    " "
   ]
  }
 ],
 "metadata": {
  "kernelspec": {
   "display_name": "Python 3 (ipykernel)",
   "language": "python",
   "name": "python3"
  },
  "language_info": {
   "codemirror_mode": {
    "name": "ipython",
    "version": 3
   },
   "file_extension": ".py",
   "mimetype": "text/x-python",
   "name": "python",
   "nbconvert_exporter": "python",
   "pygments_lexer": "ipython3",
   "version": "3.10.6"
  }
 },
 "nbformat": 4,
 "nbformat_minor": 5
}
